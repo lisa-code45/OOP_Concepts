{
 "cells": [
  {
   "cell_type": "code",
   "execution_count": null,
   "id": "65871c14-9841-4ebe-bc72-e201293929e6",
   "metadata": {},
   "outputs": [],
   "source": [
    "#classes and objects\n",
    "class Laptop:\n",
    "    def __init__(self, color, osystem, cpu):\n",
    "        self.color = color\n",
    "        self.osystem = osystem\n",
    "        self.cpu = cpu\n",
    "    def display_info(self):\n",
    "        print(\"Color: \", self.color)\n",
    "        print(\"Operating System: \", self.osystem)\n",
    "        print(\"CPU: \", self.cpu)\n",
    "\n",
    "        \n",
    "lenovo = Laptop(\"grey\", \"windows 11\", \"lenovo cpu kit xeon silver\")\n",
    "lenovo.ram = \"8 GB\"\n",
    "\n",
    "lenovo.display_info()\n",
    "print(\"RAM: \", lenovo.ram)"
   ]
  },
  {
   "cell_type": "code",
   "execution_count": null,
   "id": "a104f6d5-f197-4fcc-9ad8-6d9cc9b50a8b",
   "metadata": {},
   "outputs": [],
   "source": [
    "class Cars:\n",
    "    def __init__(self, color, wheels, engine):\n",
    "        self.color = color\n",
    "        self.wheels = wheels\n",
    "        self.engine = engine\n",
    "    def display_info(self):\n",
    "        print(\"Color:\", self.color)\n",
    "        print(\"Wheels: \", self.wheels)\n",
    "        print(\"Engine: \", self.engine)\n",
    "\n",
    "bmw = Cars(\"black\",4,\"M10\")\n",
    "bmw.seats = 4\n",
    "print(\"Seats: \",bmw.seats)              \n",
    "bmw.display_info()"
   ]
  }
 ],
 "metadata": {
  "kernelspec": {
   "display_name": "Python 3 (ipykernel)",
   "language": "python",
   "name": "python3"
  },
  "language_info": {
   "codemirror_mode": {
    "name": "ipython",
    "version": 3
   },
   "file_extension": ".py",
   "mimetype": "text/x-python",
   "name": "python",
   "nbconvert_exporter": "python",
   "pygments_lexer": "ipython3",
   "version": "3.13.5"
  }
 },
 "nbformat": 4,
 "nbformat_minor": 5
}

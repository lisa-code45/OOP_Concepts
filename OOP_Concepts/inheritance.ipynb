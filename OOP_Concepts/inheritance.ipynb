{
 "cells": [
  {
   "cell_type": "code",
   "execution_count": null,
   "id": "50851fbe-f2f5-46b8-81d5-502fc2498912",
   "metadata": {},
   "outputs": [],
   "source": [
    "#Inheritance:\n",
    "class parentClass:\n",
    "    #attributes/methods\n",
    "    pass\n",
    "class childClass(parentClass):\n",
    "    #attributes/methods\n",
    "    pass\n",
    "\n",
    "\n",
    "class Vehicle:\n",
    "    def __init__(self,brand,speed):\n",
    "        self.brand = brand\n",
    "        self.speed = speed\n",
    "    def display_vehicle_info(self):\n",
    "        print(\"Brand: \", self.brand)\n",
    "        print(\"Speed: \", self.speed)\n",
    "       \n",
    "class Cars(Vehicle):\n",
    "    def __init__(self,brand,speed,fuel_type):\n",
    "        super().__init__(brand,speed)\n",
    "        self.fuel_type = fuel_type\n",
    "        \n",
    "    def display_car_info(self):              #important or else it won't be coming back\n",
    "        self.display_vehicle_info()\n",
    "        print(\"Fuel Type: \", self.fuel_type)\n",
    "\n",
    "my_car = Cars(\"toyota\",\"fast\",\"furious\")\n",
    "my_car.display_car_info()\n",
    "\n",
    "#Wir Cars auf Vehicle beziehen da sie auf info von vehicle zugreift, um auf die init funktion zuzugreifen müssen wir super(). anwenden"
   ]
  }
 ],
 "metadata": {
  "kernelspec": {
   "display_name": "Python 3 (ipykernel)",
   "language": "python",
   "name": "python3"
  },
  "language_info": {
   "codemirror_mode": {
    "name": "ipython",
    "version": 3
   },
   "file_extension": ".py",
   "mimetype": "text/x-python",
   "name": "python",
   "nbconvert_exporter": "python",
   "pygments_lexer": "ipython3",
   "version": "3.13.5"
  }
 },
 "nbformat": 4,
 "nbformat_minor": 5
}

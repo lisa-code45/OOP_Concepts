{
 "cells": [
  {
   "cell_type": "code",
   "execution_count": null,
   "id": "d02e0df7-e3a8-4057-a033-3defe61999ce",
   "metadata": {},
   "outputs": [],
   "source": [
    "#polymorphism - methods with the same name used for different functionality\n",
    "class Vehicle:\n",
    "    def __init__(self,brand,speed):\n",
    "        self.brand = brand\n",
    "        self.speed = speed\n",
    "    def show_info(self):\n",
    "        print(\"Brand: \", self.brand)\n",
    "        print(\"Speed: \", self.speed)\n",
    "       \n",
    "class Cars(Vehicle):\n",
    "    def __init__(self,brand,speed,fuel_type):\n",
    "        super().__init__(brand,speed)\n",
    "        self.fuel_type = fuel_type\n",
    "        \n",
    "    def show_info(self):             \n",
    "        super().show_info()\n",
    "        print(\"Fuel Type: \", self.fuel_type)\n",
    "        \n",
    "\n",
    "my_car = Cars(\"Toyota\",\"fast\",\"furious\")\n",
    "vehicle = Vehicle(\"Generic Vehicle\",80)\n",
    "\n",
    "my_car.show_info()\n",
    "vehicle.show_info()"
   ]
  }
 ],
 "metadata": {
  "kernelspec": {
   "display_name": "Python 3 (ipykernel)",
   "language": "python",
   "name": "python3"
  },
  "language_info": {
   "codemirror_mode": {
    "name": "ipython",
    "version": 3
   },
   "file_extension": ".py",
   "mimetype": "text/x-python",
   "name": "python",
   "nbconvert_exporter": "python",
   "pygments_lexer": "ipython3",
   "version": "3.13.5"
  }
 },
 "nbformat": 4,
 "nbformat_minor": 5
}

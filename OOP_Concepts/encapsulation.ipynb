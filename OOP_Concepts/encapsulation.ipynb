{
 "cells": [
  {
   "cell_type": "code",
   "execution_count": 17,
   "id": "4c1733e3-9b57-48b0-982e-6da75fa3c7ad",
   "metadata": {},
   "outputs": [
    {
     "name": "stdout",
     "output_type": "stream",
     "text": [
      "Your current balance:  100.0 €\n",
      "Your current balance:  60.0 €\n"
     ]
    }
   ],
   "source": [
    "#encapsulation\n",
    "class BankAccount: \n",
    "    def __init__(self):\n",
    "        self.__balance = 0\n",
    "\n",
    "    #setter and getter\n",
    "    def get_balance(self):\n",
    "        return self.__balance\n",
    "    def set_balance(self, new_balance):\n",
    "        self.__balance = new_balance\n",
    "\n",
    "    #deposit and withdraw method\n",
    "    def deposit_money(self, amount):\n",
    "        self.__balance += amount\n",
    "        return self.__balance\n",
    "    def withdraw_money(self, amount): #it's important people can only substract when you have more on account\n",
    "        if amount <= self.__balance:\n",
    "            self.__balance -= amount\n",
    "            return self.__balance\n",
    "        else:\n",
    "            print(\"Your balance is too low.\") \n",
    "           \n",
    "    #output function\n",
    "    def show_balance(self):\n",
    "        print(\"Your current balance: \",self.__balance,\"€\")\n",
    "\n",
    "#object\n",
    "my_account = BankAccount()\n",
    "my_account.deposit_money(100.00)\n",
    "my_account.show_balance()\n",
    "my_account.withdraw_money(40.00)\n",
    "my_account.show_balance()"
   ]
  },
  {
   "cell_type": "code",
   "execution_count": null,
   "id": "6566c7e1-e52d-460c-87d0-12417fd77a8c",
   "metadata": {},
   "outputs": [],
   "source": []
  }
 ],
 "metadata": {
  "kernelspec": {
   "display_name": "Python 3 (ipykernel)",
   "language": "python",
   "name": "python3"
  },
  "language_info": {
   "codemirror_mode": {
    "name": "ipython",
    "version": 3
   },
   "file_extension": ".py",
   "mimetype": "text/x-python",
   "name": "python",
   "nbconvert_exporter": "python",
   "pygments_lexer": "ipython3",
   "version": "3.13.5"
  }
 },
 "nbformat": 4,
 "nbformat_minor": 5
}
